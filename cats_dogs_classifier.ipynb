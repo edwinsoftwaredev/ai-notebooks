{
  "metadata": {
    "kernelspec": {
      "name": "python3",
      "display_name": "Python 3",
      "language": "python"
    },
    "language_info": {
      "name": "python",
      "version": "3.11.11",
      "mimetype": "text/x-python",
      "codemirror_mode": {
        "name": "ipython",
        "version": 3
      },
      "pygments_lexer": "ipython3",
      "nbconvert_exporter": "python",
      "file_extension": ".py"
    },
    "colab": {
      "provenance": [],
      "gpuType": "T4",
      "include_colab_link": true
    },
    "accelerator": "GPU",
    "kaggle": {
      "accelerator": "gpu",
      "dataSources": [],
      "dockerImageVersionId": 31041,
      "isInternetEnabled": true,
      "language": "python",
      "sourceType": "notebook",
      "isGpuEnabled": true
    }
  },
  "nbformat_minor": 0,
  "nbformat": 4,
  "cells": [
    {
      "cell_type": "markdown",
      "metadata": {
        "id": "view-in-github",
        "colab_type": "text"
      },
      "source": [
        "<a href=\"https://colab.research.google.com/github/edwinsoftwaredev/ai-notebooks/blob/main/cats_dogs_classifier.ipynb\" target=\"_parent\"><img src=\"https://colab.research.google.com/assets/colab-badge.svg\" alt=\"Open In Colab\"/></a>"
      ]
    },
    {
      "cell_type": "code",
      "source": [
        "!pip install wandb\n",
        "!pip install \"ray[tune]\"\n",
        "!pip install \"dask[complete]\"\n",
        "\n",
        "from kaggle_secrets import UserSecretsClient\n",
        "user_secrets = UserSecretsClient()\n",
        "secret_value_0 = user_secrets.get_secret(\"WANDB_API_KEY\")\n",
        "\n",
        "import wandb\n",
        "wandb.login(key=secret_value_0)"
      ],
      "metadata": {
        "id": "yGbdgNTCTdx4",
        "colab": {
          "base_uri": "https://localhost:8080/"
        },
        "outputId": "b2fd3dc7-beea-43ae-98cb-f4068011d8fd",
        "trusted": true,
        "execution": {
          "iopub.status.busy": "2025-06-03T22:14:16.731055Z",
          "iopub.execute_input": "2025-06-03T22:14:16.731545Z",
          "iopub.status.idle": "2025-06-03T22:14:36.188313Z",
          "shell.execute_reply.started": "2025-06-03T22:14:16.731518Z",
          "shell.execute_reply": "2025-06-03T22:14:36.187563Z"
        }
      },
      "outputs": [
        {
          "name": "stdout",
          "text": "Requirement already satisfied: wandb in /usr/local/lib/python3.11/dist-packages (0.19.9)\nRequirement already satisfied: click!=8.0.0,>=7.1 in /usr/local/lib/python3.11/dist-packages (from wandb) (8.1.8)\nRequirement already satisfied: docker-pycreds>=0.4.0 in /usr/local/lib/python3.11/dist-packages (from wandb) (0.4.0)\nRequirement already satisfied: gitpython!=3.1.29,>=1.0.0 in /usr/local/lib/python3.11/dist-packages (from wandb) (3.1.44)\nRequirement already satisfied: platformdirs in /usr/local/lib/python3.11/dist-packages (from wandb) (4.3.8)\nRequirement already satisfied: protobuf!=4.21.0,!=5.28.0,<6,>=3.19.0 in /usr/local/lib/python3.11/dist-packages (from wandb) (3.20.3)\nRequirement already satisfied: psutil>=5.0.0 in /usr/local/lib/python3.11/dist-packages (from wandb) (7.0.0)\nRequirement already satisfied: pydantic<3 in /usr/local/lib/python3.11/dist-packages (from wandb) (2.11.4)\nRequirement already satisfied: pyyaml in /usr/local/lib/python3.11/dist-packages (from wandb) (6.0.2)\nRequirement already satisfied: requests<3,>=2.0.0 in /usr/local/lib/python3.11/dist-packages (from wandb) (2.32.3)\nRequirement already satisfied: sentry-sdk>=2.0.0 in /usr/local/lib/python3.11/dist-packages (from wandb) (2.25.1)\nRequirement already satisfied: setproctitle in /usr/local/lib/python3.11/dist-packages (from wandb) (1.3.5)\nRequirement already satisfied: setuptools in /usr/local/lib/python3.11/dist-packages (from wandb) (75.2.0)\nRequirement already satisfied: typing-extensions<5,>=4.4 in /usr/local/lib/python3.11/dist-packages (from wandb) (4.13.2)\nRequirement already satisfied: six>=1.4.0 in /usr/local/lib/python3.11/dist-packages (from docker-pycreds>=0.4.0->wandb) (1.17.0)\nRequirement already satisfied: gitdb<5,>=4.0.1 in /usr/local/lib/python3.11/dist-packages (from gitpython!=3.1.29,>=1.0.0->wandb) (4.0.12)\nRequirement already satisfied: annotated-types>=0.6.0 in /usr/local/lib/python3.11/dist-packages (from pydantic<3->wandb) (0.7.0)\nRequirement already satisfied: pydantic-core==2.33.2 in /usr/local/lib/python3.11/dist-packages (from pydantic<3->wandb) (2.33.2)\nRequirement already satisfied: typing-inspection>=0.4.0 in /usr/local/lib/python3.11/dist-packages (from pydantic<3->wandb) (0.4.0)\nRequirement already satisfied: charset-normalizer<4,>=2 in /usr/local/lib/python3.11/dist-packages (from requests<3,>=2.0.0->wandb) (3.4.2)\nRequirement already satisfied: idna<4,>=2.5 in /usr/local/lib/python3.11/dist-packages (from requests<3,>=2.0.0->wandb) (3.10)\nRequirement already satisfied: urllib3<3,>=1.21.1 in /usr/local/lib/python3.11/dist-packages (from requests<3,>=2.0.0->wandb) (2.4.0)\nRequirement already satisfied: certifi>=2017.4.17 in /usr/local/lib/python3.11/dist-packages (from requests<3,>=2.0.0->wandb) (2025.4.26)\nRequirement already satisfied: smmap<6,>=3.0.1 in /usr/local/lib/python3.11/dist-packages (from gitdb<5,>=4.0.1->gitpython!=3.1.29,>=1.0.0->wandb) (5.0.2)\nRequirement already satisfied: ray[tune] in /usr/local/lib/python3.11/dist-packages (2.46.0)\nRequirement already satisfied: click>=7.0 in /usr/local/lib/python3.11/dist-packages (from ray[tune]) (8.1.8)\nRequirement already satisfied: filelock in /usr/local/lib/python3.11/dist-packages (from ray[tune]) (3.18.0)\nRequirement already satisfied: jsonschema in /usr/local/lib/python3.11/dist-packages (from ray[tune]) (4.23.0)\nRequirement already satisfied: msgpack<2.0.0,>=1.0.0 in /usr/local/lib/python3.11/dist-packages (from ray[tune]) (1.1.0)\nRequirement already satisfied: packaging in /usr/local/lib/python3.11/dist-packages (from ray[tune]) (25.0)\nRequirement already satisfied: protobuf!=3.19.5,>=3.15.3 in /usr/local/lib/python3.11/dist-packages (from ray[tune]) (3.20.3)\nRequirement already satisfied: pyyaml in /usr/local/lib/python3.11/dist-packages (from ray[tune]) (6.0.2)\nRequirement already satisfied: requests in /usr/local/lib/python3.11/dist-packages (from ray[tune]) (2.32.3)\nRequirement already satisfied: pandas in /usr/local/lib/python3.11/dist-packages (from ray[tune]) (2.2.3)\nCollecting tensorboardX>=1.9 (from ray[tune])\n  Downloading tensorboardX-2.6.2.2-py2.py3-none-any.whl.metadata (5.8 kB)\nRequirement already satisfied: pyarrow>=9.0.0 in /usr/local/lib/python3.11/dist-packages (from ray[tune]) (19.0.1)\nRequirement already satisfied: fsspec in /usr/local/lib/python3.11/dist-packages (from ray[tune]) (2025.3.2)\nRequirement already satisfied: numpy in /usr/local/lib/python3.11/dist-packages (from tensorboardX>=1.9->ray[tune]) (1.26.4)\nRequirement already satisfied: attrs>=22.2.0 in /usr/local/lib/python3.11/dist-packages (from jsonschema->ray[tune]) (25.3.0)\nRequirement already satisfied: jsonschema-specifications>=2023.03.6 in /usr/local/lib/python3.11/dist-packages (from jsonschema->ray[tune]) (2024.10.1)\nRequirement already satisfied: referencing>=0.28.4 in /usr/local/lib/python3.11/dist-packages (from jsonschema->ray[tune]) (0.36.2)\nRequirement already satisfied: rpds-py>=0.7.1 in /usr/local/lib/python3.11/dist-packages (from jsonschema->ray[tune]) (0.24.0)\nRequirement already satisfied: python-dateutil>=2.8.2 in /usr/local/lib/python3.11/dist-packages (from pandas->ray[tune]) (2.9.0.post0)\nRequirement already satisfied: pytz>=2020.1 in /usr/local/lib/python3.11/dist-packages (from pandas->ray[tune]) (2025.2)\nRequirement already satisfied: tzdata>=2022.7 in /usr/local/lib/python3.11/dist-packages (from pandas->ray[tune]) (2025.2)\nRequirement already satisfied: charset-normalizer<4,>=2 in /usr/local/lib/python3.11/dist-packages (from requests->ray[tune]) (3.4.2)\nRequirement already satisfied: idna<4,>=2.5 in /usr/local/lib/python3.11/dist-packages (from requests->ray[tune]) (3.10)\nRequirement already satisfied: urllib3<3,>=1.21.1 in /usr/local/lib/python3.11/dist-packages (from requests->ray[tune]) (2.4.0)\nRequirement already satisfied: certifi>=2017.4.17 in /usr/local/lib/python3.11/dist-packages (from requests->ray[tune]) (2025.4.26)\nRequirement already satisfied: mkl_fft in /usr/local/lib/python3.11/dist-packages (from numpy->tensorboardX>=1.9->ray[tune]) (1.3.8)\nRequirement already satisfied: mkl_random in /usr/local/lib/python3.11/dist-packages (from numpy->tensorboardX>=1.9->ray[tune]) (1.2.4)\nRequirement already satisfied: mkl_umath in /usr/local/lib/python3.11/dist-packages (from numpy->tensorboardX>=1.9->ray[tune]) (0.1.1)\nRequirement already satisfied: mkl in /usr/local/lib/python3.11/dist-packages (from numpy->tensorboardX>=1.9->ray[tune]) (2025.1.0)\nRequirement already satisfied: tbb4py in /usr/local/lib/python3.11/dist-packages (from numpy->tensorboardX>=1.9->ray[tune]) (2022.1.0)\nRequirement already satisfied: mkl-service in /usr/local/lib/python3.11/dist-packages (from numpy->tensorboardX>=1.9->ray[tune]) (2.4.1)\nRequirement already satisfied: six>=1.5 in /usr/local/lib/python3.11/dist-packages (from python-dateutil>=2.8.2->pandas->ray[tune]) (1.17.0)\nRequirement already satisfied: typing-extensions>=4.4.0 in /usr/local/lib/python3.11/dist-packages (from referencing>=0.28.4->jsonschema->ray[tune]) (4.13.2)\nRequirement already satisfied: intel-openmp<2026,>=2024 in /usr/local/lib/python3.11/dist-packages (from mkl->numpy->tensorboardX>=1.9->ray[tune]) (2024.2.0)\nRequirement already satisfied: tbb==2022.* in /usr/local/lib/python3.11/dist-packages (from mkl->numpy->tensorboardX>=1.9->ray[tune]) (2022.1.0)\nRequirement already satisfied: tcmlib==1.* in /usr/local/lib/python3.11/dist-packages (from tbb==2022.*->mkl->numpy->tensorboardX>=1.9->ray[tune]) (1.3.0)\nRequirement already satisfied: intel-cmplr-lib-rt in /usr/local/lib/python3.11/dist-packages (from mkl_umath->numpy->tensorboardX>=1.9->ray[tune]) (2024.2.0)\nRequirement already satisfied: intel-cmplr-lib-ur==2024.2.0 in /usr/local/lib/python3.11/dist-packages (from intel-openmp<2026,>=2024->mkl->numpy->tensorboardX>=1.9->ray[tune]) (2024.2.0)\nDownloading tensorboardX-2.6.2.2-py2.py3-none-any.whl (101 kB)\n\u001b[2K   \u001b[90m━━━━━━━━━━━━━━━━━━━━━━━━━━━━━━━━━━━━━━━━\u001b[0m \u001b[32m101.7/101.7 kB\u001b[0m \u001b[31m3.1 MB/s\u001b[0m eta \u001b[36m0:00:00\u001b[0m\n\u001b[?25hInstalling collected packages: tensorboardX\nSuccessfully installed tensorboardX-2.6.2.2\nRequirement already satisfied: dask[complete] in /usr/local/lib/python3.11/dist-packages (2024.12.1)\nRequirement already satisfied: click>=8.1 in /usr/local/lib/python3.11/dist-packages (from dask[complete]) (8.1.8)\nRequirement already satisfied: cloudpickle>=3.0.0 in /usr/local/lib/python3.11/dist-packages (from dask[complete]) (3.1.1)\nRequirement already satisfied: fsspec>=2021.09.0 in /usr/local/lib/python3.11/dist-packages (from dask[complete]) (2025.3.2)\nRequirement already satisfied: packaging>=20.0 in /usr/local/lib/python3.11/dist-packages (from dask[complete]) (25.0)\nRequirement already satisfied: partd>=1.4.0 in /usr/local/lib/python3.11/dist-packages (from dask[complete]) (1.4.2)\nRequirement already satisfied: pyyaml>=5.3.1 in /usr/local/lib/python3.11/dist-packages (from dask[complete]) (6.0.2)\nRequirement already satisfied: toolz>=0.10.0 in /usr/local/lib/python3.11/dist-packages (from dask[complete]) (1.0.0)\nRequirement already satisfied: importlib_metadata>=4.13.0 in /usr/local/lib/python3.11/dist-packages (from dask[complete]) (8.7.0)\nRequirement already satisfied: pyarrow>=14.0.1 in /usr/local/lib/python3.11/dist-packages (from dask[complete]) (19.0.1)\nCollecting lz4>=4.3.2 (from dask[complete])\n  Downloading lz4-4.4.4-cp311-cp311-manylinux_2_17_x86_64.manylinux2014_x86_64.whl.metadata (3.8 kB)\nRequirement already satisfied: zipp>=3.20 in /usr/local/lib/python3.11/dist-packages (from importlib_metadata>=4.13.0->dask[complete]) (3.21.0)\nRequirement already satisfied: locket in /usr/local/lib/python3.11/dist-packages (from partd>=1.4.0->dask[complete]) (1.0.0)\nRequirement already satisfied: numpy>=1.24 in /usr/local/lib/python3.11/dist-packages (from dask[complete]) (1.26.4)\nRequirement already satisfied: pandas>=2.0 in /usr/local/lib/python3.11/dist-packages (from dask[complete]) (2.2.3)\nRequirement already satisfied: dask-expr<1.2,>=1.1 in /usr/local/lib/python3.11/dist-packages (from dask[complete]) (1.1.21)\nRequirement already satisfied: distributed==2024.12.1 in /usr/local/lib/python3.11/dist-packages (from dask[complete]) (2024.12.1)\nRequirement already satisfied: bokeh>=3.1.0 in /usr/local/lib/python3.11/dist-packages (from dask[complete]) (3.6.3)\nRequirement already satisfied: jinja2>=2.10.3 in /usr/local/lib/python3.11/dist-packages (from dask[complete]) (3.1.6)\nRequirement already satisfied: msgpack>=1.0.2 in /usr/local/lib/python3.11/dist-packages (from distributed==2024.12.1->dask[complete]) (1.1.0)\nRequirement already satisfied: psutil>=5.8.0 in /usr/local/lib/python3.11/dist-packages (from distributed==2024.12.1->dask[complete]) (7.0.0)\nRequirement already satisfied: sortedcontainers>=2.0.5 in /usr/local/lib/python3.11/dist-packages (from distributed==2024.12.1->dask[complete]) (2.4.0)\nRequirement already satisfied: tblib>=1.6.0 in /usr/local/lib/python3.11/dist-packages (from distributed==2024.12.1->dask[complete]) (3.1.0)\nRequirement already satisfied: tornado>=6.2.0 in /usr/local/lib/python3.11/dist-packages (from distributed==2024.12.1->dask[complete]) (6.4.2)\nRequirement already satisfied: urllib3>=1.26.5 in /usr/local/lib/python3.11/dist-packages (from distributed==2024.12.1->dask[complete]) (2.4.0)\nRequirement already satisfied: zict>=3.0.0 in /usr/local/lib/python3.11/dist-packages (from distributed==2024.12.1->dask[complete]) (3.0.0)\nRequirement already satisfied: contourpy>=1.2 in /usr/local/lib/python3.11/dist-packages (from bokeh>=3.1.0->dask[complete]) (1.3.1)\nRequirement already satisfied: pillow>=7.1.0 in /usr/local/lib/python3.11/dist-packages (from bokeh>=3.1.0->dask[complete]) (11.1.0)\nRequirement already satisfied: xyzservices>=2021.09.1 in /usr/local/lib/python3.11/dist-packages (from bokeh>=3.1.0->dask[complete]) (2025.1.0)\nRequirement already satisfied: MarkupSafe>=2.0 in /usr/local/lib/python3.11/dist-packages (from jinja2>=2.10.3->dask[complete]) (3.0.2)\nRequirement already satisfied: mkl_fft in /usr/local/lib/python3.11/dist-packages (from numpy>=1.24->dask[complete]) (1.3.8)\nRequirement already satisfied: mkl_random in /usr/local/lib/python3.11/dist-packages (from numpy>=1.24->dask[complete]) (1.2.4)\nRequirement already satisfied: mkl_umath in /usr/local/lib/python3.11/dist-packages (from numpy>=1.24->dask[complete]) (0.1.1)\nRequirement already satisfied: mkl in /usr/local/lib/python3.11/dist-packages (from numpy>=1.24->dask[complete]) (2025.1.0)\nRequirement already satisfied: tbb4py in /usr/local/lib/python3.11/dist-packages (from numpy>=1.24->dask[complete]) (2022.1.0)\nRequirement already satisfied: mkl-service in /usr/local/lib/python3.11/dist-packages (from numpy>=1.24->dask[complete]) (2.4.1)\nRequirement already satisfied: python-dateutil>=2.8.2 in /usr/local/lib/python3.11/dist-packages (from pandas>=2.0->dask[complete]) (2.9.0.post0)\nRequirement already satisfied: pytz>=2020.1 in /usr/local/lib/python3.11/dist-packages (from pandas>=2.0->dask[complete]) (2025.2)\nRequirement already satisfied: tzdata>=2022.7 in /usr/local/lib/python3.11/dist-packages (from pandas>=2.0->dask[complete]) (2025.2)\nRequirement already satisfied: six>=1.5 in /usr/local/lib/python3.11/dist-packages (from python-dateutil>=2.8.2->pandas>=2.0->dask[complete]) (1.17.0)\nRequirement already satisfied: intel-openmp<2026,>=2024 in /usr/local/lib/python3.11/dist-packages (from mkl->numpy>=1.24->dask[complete]) (2024.2.0)\nRequirement already satisfied: tbb==2022.* in /usr/local/lib/python3.11/dist-packages (from mkl->numpy>=1.24->dask[complete]) (2022.1.0)\nRequirement already satisfied: tcmlib==1.* in /usr/local/lib/python3.11/dist-packages (from tbb==2022.*->mkl->numpy>=1.24->dask[complete]) (1.3.0)\nRequirement already satisfied: intel-cmplr-lib-rt in /usr/local/lib/python3.11/dist-packages (from mkl_umath->numpy>=1.24->dask[complete]) (2024.2.0)\nRequirement already satisfied: intel-cmplr-lib-ur==2024.2.0 in /usr/local/lib/python3.11/dist-packages (from intel-openmp<2026,>=2024->mkl->numpy>=1.24->dask[complete]) (2024.2.0)\nDownloading lz4-4.4.4-cp311-cp311-manylinux_2_17_x86_64.manylinux2014_x86_64.whl (1.3 MB)\n\u001b[2K   \u001b[90m━━━━━━━━━━━━━━━━━━━━━━━━━━━━━━━━━━━━━━━━\u001b[0m \u001b[32m1.3/1.3 MB\u001b[0m \u001b[31m16.9 MB/s\u001b[0m eta \u001b[36m0:00:00\u001b[0m00:01\u001b[0m0:01\u001b[0m\n\u001b[?25hInstalling collected packages: lz4\nSuccessfully installed lz4-4.4.4\n",
          "output_type": "stream"
        },
        {
          "name": "stderr",
          "text": "\u001b[34m\u001b[1mwandb\u001b[0m: Using wandb-core as the SDK backend.  Please refer to https://wandb.me/wandb-core for more information.\n\u001b[34m\u001b[1mwandb\u001b[0m: \u001b[33mWARNING\u001b[0m If you're specifying your api key in code, ensure this code is not shared publicly.\n\u001b[34m\u001b[1mwandb\u001b[0m: \u001b[33mWARNING\u001b[0m Consider setting the WANDB_API_KEY environment variable, or running `wandb login` from the command line.\n\u001b[34m\u001b[1mwandb\u001b[0m: No netrc file found, creating one.\n\u001b[34m\u001b[1mwandb\u001b[0m: Appending key for api.wandb.ai to your netrc file: /root/.netrc\n\u001b[34m\u001b[1mwandb\u001b[0m: Currently logged in as: \u001b[33medwinsoftwaredev\u001b[0m (\u001b[33medwinsoftwaredev-personal\u001b[0m) to \u001b[32mhttps://api.wandb.ai\u001b[0m. Use \u001b[1m`wandb login --relogin`\u001b[0m to force relogin\n",
          "output_type": "stream"
        },
        {
          "execution_count": 1,
          "output_type": "execute_result",
          "data": {
            "text/plain": "True"
          },
          "metadata": {}
        }
      ],
      "execution_count": null
    },
    {
      "cell_type": "code",
      "source": [
        "import os\n",
        "import tempfile\n",
        "\n",
        "import io\n",
        "from PIL import Image\n",
        "\n",
        "import torch\n",
        "from torchvision.transforms import v2\n",
        "from torch.utils.data import TensorDataset, DataLoader, Dataset\n",
        "from torch import nn\n",
        "\n",
        "device = torch.device('cuda' if torch.cuda.is_available() else 'cpu')\n",
        "\n",
        "import ray\n",
        "from ray import train, tune\n",
        "from ray.tune.schedulers import ASHAScheduler\n",
        "\n",
        "import dask"
      ],
      "metadata": {
        "id": "fgrUxruf0xjs",
        "trusted": true,
        "execution": {
          "iopub.status.busy": "2025-06-03T22:14:36.189601Z",
          "iopub.execute_input": "2025-06-03T22:14:36.189959Z",
          "iopub.status.idle": "2025-06-03T22:14:46.251213Z",
          "shell.execute_reply.started": "2025-06-03T22:14:36.189936Z",
          "shell.execute_reply": "2025-06-03T22:14:46.250548Z"
        }
      },
      "outputs": [],
      "execution_count": null
    },
    {
      "cell_type": "code",
      "source": [
        "train_transforms = v2.Compose([\n",
        "    v2.PILToTensor(),\n",
        "    v2.RandomHorizontalFlip(p=0.5),\n",
        "    v2.Resize(224),     # TODO: replace with custom function\n",
        "    v2.CenterCrop(224),\n",
        "    v2.ToDtype(torch.float32, scale=True),\n",
        "    v2.Normalize(mean=[0.485, 0.456, 0.406], std=[0.229, 0.224, 0.225]),\n",
        "])\n",
        "\n",
        "test_transforms = v2.Compose([\n",
        "    v2.PILToTensor(),\n",
        "    v2.Resize(224),\n",
        "    v2.CenterCrop(224),\n",
        "    v2.ToDtype(torch.float32, scale=True),\n",
        "    v2.Normalize(mean=[0.485, 0.456, 0.406], std=[0.229, 0.224, 0.225]),\n",
        "])"
      ],
      "metadata": {
        "id": "ELfhQBx35_my",
        "trusted": true,
        "execution": {
          "iopub.status.busy": "2025-06-03T22:14:46.252081Z",
          "iopub.execute_input": "2025-06-03T22:14:46.252279Z",
          "iopub.status.idle": "2025-06-03T22:14:46.258056Z",
          "shell.execute_reply.started": "2025-06-03T22:14:46.252256Z",
          "shell.execute_reply": "2025-06-03T22:14:46.257556Z"
        }
      },
      "outputs": [],
      "execution_count": null
    },
    {
      "cell_type": "code",
      "source": [
        "def apply_transforms(img, test_dataset):\n",
        "    # PIL Image object\n",
        "    img_pil = Image.open(io.BytesIO(img['bytes']))\n",
        "    img_pil = img_pil.convert('RGB') # TODO: check dimensions mismatch\n",
        "    return train_transforms(img_pil) if not test_dataset else test_transforms(img_pil)"
      ],
      "metadata": {
        "id": "PIZ7bgaSDmBw",
        "trusted": true,
        "execution": {
          "iopub.status.busy": "2025-06-03T22:14:46.259715Z",
          "iopub.execute_input": "2025-06-03T22:14:46.260099Z",
          "iopub.status.idle": "2025-06-03T22:14:46.296221Z",
          "shell.execute_reply.started": "2025-06-03T22:14:46.260081Z",
          "shell.execute_reply": "2025-06-03T22:14:46.295557Z"
        }
      },
      "outputs": [],
      "execution_count": null
    },
    {
      "cell_type": "code",
      "source": [
        "class ImageDataset(Dataset):\n",
        "    def __init__(self, images, labels, test_dataset):\n",
        "        self.images = images\n",
        "        self.labels = labels\n",
        "        self.test_dataset = test_dataset\n",
        "\n",
        "\n",
        "    def __len__(self):\n",
        "        return len(self.labels)\n",
        "\n",
        "\n",
        "    def __getitem__(self, idx):\n",
        "        image = self.images.iloc[idx]\n",
        "        label = self.labels.iloc[idx]\n",
        "\n",
        "        # Note that for each image this happens\n",
        "        # on every epoch\n",
        "        image = apply_transforms(image, self.test_dataset)\n",
        "\n",
        "        return image, label\n"
      ],
      "metadata": {
        "id": "6Oqe6YbmzxU4",
        "trusted": true,
        "execution": {
          "iopub.status.busy": "2025-06-03T22:14:46.296914Z",
          "iopub.execute_input": "2025-06-03T22:14:46.297123Z",
          "iopub.status.idle": "2025-06-03T22:14:46.312042Z",
          "shell.execute_reply.started": "2025-06-03T22:14:46.297107Z",
          "shell.execute_reply": "2025-06-03T22:14:46.311408Z"
        }
      },
      "outputs": [],
      "execution_count": null
    },
    {
      "cell_type": "code",
      "source": [
        "@dask.delayed\n",
        "def partitions_to_datasets(partition, test_dataset):\n",
        "    return ImageDataset(partition['image'], partition['labels'], test_dataset)\n"
      ],
      "metadata": {
        "id": "5xIxNyYZu-tX",
        "trusted": true,
        "execution": {
          "iopub.status.busy": "2025-06-03T22:14:46.312729Z",
          "iopub.execute_input": "2025-06-03T22:14:46.312972Z",
          "iopub.status.idle": "2025-06-03T22:14:46.327061Z",
          "shell.execute_reply.started": "2025-06-03T22:14:46.312950Z",
          "shell.execute_reply": "2025-06-03T22:14:46.326397Z"
        }
      },
      "outputs": [],
      "execution_count": null
    },
    {
      "cell_type": "code",
      "source": [
        "import dask.dataframe as dd\n",
        "import pyarrow as pa\n",
        "\n",
        "import numpy as np\n",
        "from random import randint\n",
        "\n",
        "ddf = dd.read_parquet(\"hf://datasets/microsoft/cats_vs_dogs/data/train-*.parquet\")\n",
        "\n",
        "ddf.to_parquet('/content/cats_vs_dogs_parquet', schema={ 'image': pa.struct([('bytes', pa.binary()), ('path', pa.string())]), 'labels': pa.int64() })\n",
        "\n",
        "def add_random_col(df):\n",
        "    seed = randint(100, 200)\n",
        "    rng = np.random.RandomState(seed)\n",
        "    return df.assign(_rand=rng.rand(len(df)))\n",
        "\n",
        "# Assign a random column in each partition with a different seed\n",
        "ddf = ddf.map_partitions(add_random_col)\n",
        "\n",
        "ddf = ddf.shuffle(ddf.columns[2], ignore_index=True)\n",
        "\n",
        "ddf.visualize()\n",
        "\n",
        "ddf.to_parquet('/content/cats_vs_dogs_parquet', schema={ 'image': pa.struct([('bytes', pa.binary()), ('path', pa.string())]), 'labels': pa.int64() })\n",
        "\n",
        "ddf = dd.read_parquet('/content/cats_vs_dogs_parquet')\n",
        "\n",
        "ddf = ddf.random_split([0.8, 0.2], random_state=123, shuffle=True)\n",
        "\n",
        "train_set, test_set = ddf\n",
        "\n",
        "train_datasets = [partitions_to_datasets(partition, False) for partition in train_set.to_delayed()]\n",
        "test_datasets = [partitions_to_datasets(partition, True) for partition in test_set.to_delayed()]"
      ],
      "metadata": {
        "id": "m2ocSIjCfYwe",
        "trusted": true,
        "execution": {
          "iopub.status.busy": "2025-06-03T22:14:46.327777Z",
          "iopub.execute_input": "2025-06-03T22:14:46.327996Z",
          "iopub.status.idle": "2025-06-03T22:15:17.796160Z",
          "shell.execute_reply.started": "2025-06-03T22:14:46.327971Z",
          "shell.execute_reply": "2025-06-03T22:15:17.795253Z"
        }
      },
      "outputs": [],
      "execution_count": null
    },
    {
      "cell_type": "code",
      "source": [
        "train_datasets[0].visualize()"
      ],
      "metadata": {
        "colab": {
          "base_uri": "https://localhost:8080/",
          "height": 694
        },
        "id": "w0bHQ6exUyzX",
        "outputId": "eaed1fd4-1930-46f3-c93b-817fd9abce61",
        "trusted": true,
        "execution": {
          "iopub.status.busy": "2025-06-03T22:15:17.797270Z",
          "iopub.execute_input": "2025-06-03T22:15:17.797959Z",
          "iopub.status.idle": "2025-06-03T22:15:17.844990Z",
          "shell.execute_reply.started": "2025-06-03T22:15:17.797931Z",
          "shell.execute_reply": "2025-06-03T22:15:17.844412Z"
        }
      },
      "outputs": [
        {
          "execution_count": 8,
          "output_type": "execute_result",
          "data": {
            "image/png": "[encoded data removed]",
            "text/plain": "<IPython.core.display.Image object>"
          },
          "metadata": {}
        }
      ],
      "execution_count": null
    },
    {
      "cell_type": "code",
      "source": [
        "class CNN(nn.Module):\n",
        "    def __init__(\n",
        "            self,\n",
        "            l1_c,\n",
        "            l1_cnk,\n",
        "            l1_pk,\n",
        "            l1_ps,\n",
        "            l2_c,\n",
        "            l2_cnk,\n",
        "            l2_pk,\n",
        "            l2_ps,\n",
        "            l3_c,\n",
        "            l3_cnk,\n",
        "            l3_pk,\n",
        "            l3_ps,\n",
        "            l4_c,\n",
        "            l4_cnk,\n",
        "            l4_pk,\n",
        "            l4_ps,\n",
        "            l5_c,\n",
        "            l5_cnk,\n",
        "            l5_pk,\n",
        "            l5_ps,\n",
        "        ):\n",
        "\n",
        "        super().__init__()\n",
        "\n",
        "        self.cnn = nn.Sequential(\n",
        "            # l1\n",
        "            nn.Conv2d(3, l1_c, l1_cnk, bias=False),\n",
        "            nn.BatchNorm2d(l1_c, affine=True),\n",
        "            nn.LeakyReLU(),\n",
        "            nn.MaxPool2d(l1_pk, stride=l1_ps),\n",
        "\n",
        "            # l2\n",
        "            nn.Conv2d(l1_c, l2_c, l2_cnk),\n",
        "            nn.LeakyReLU(),\n",
        "            nn.MaxPool2d(l2_pk, stride=l2_ps),\n",
        "\n",
        "            # l3\n",
        "            nn.Conv2d(l2_c, l3_c, l3_cnk),\n",
        "            nn.LeakyReLU(),\n",
        "            nn.MaxPool2d(l3_pk, stride=l3_ps),\n",
        "\n",
        "            # l4\n",
        "            nn.Conv2d(l3_c, l4_c, l4_cnk),\n",
        "            nn.LeakyReLU(),\n",
        "            nn.MaxPool2d(l4_pk, stride=l4_ps),\n",
        "\n",
        "            # l5\n",
        "            nn.Conv2d(l4_c, l5_c, l5_cnk),\n",
        "            nn.LeakyReLU(),\n",
        "            nn.MaxPool2d(l5_pk, stride=l5_ps),\n",
        "\n",
        "            # output\n",
        "            nn.Conv2d(l5_c, 1, 1),     # 1 channel == 1 class == 0-1 probability\n",
        "            nn.AdaptiveAvgPool2d(1)     # global avg pooling\n",
        "        )\n",
        "\n",
        "\n",
        "    def forward(self, images):\n",
        "        # images: list of image tensors with shape (3, H, W), variable H and W\n",
        "\n",
        "        outputs = []\n",
        "        for image in images:\n",
        "            image = image.unsqueeze(0)                      # (1, 3, H, W) adds dim N (N, C, H, W)\n",
        "            output = self.cnn(image)                        # (1, 1, 1, 1) -> output layer\n",
        "            # output = output.view(output.size(0), -1)      # (N, C) or (N, flatten remaining dimensions)\n",
        "            output = output.view(-1)                        # flatten the whole tensor to match target (y) tensor\n",
        "            outputs.append(output)\n",
        "\n",
        "\n",
        "        return torch.cat(outputs, dim=0)\n"
      ],
      "metadata": {
        "id": "gM1172d6Da5B",
        "trusted": true,
        "execution": {
          "iopub.status.busy": "2025-06-03T22:15:17.845836Z",
          "iopub.execute_input": "2025-06-03T22:15:17.846111Z",
          "iopub.status.idle": "2025-06-03T22:15:19.871602Z",
          "shell.execute_reply.started": "2025-06-03T22:15:17.846089Z",
          "shell.execute_reply": "2025-06-03T22:15:19.870761Z"
        }
      },
      "outputs": [],
      "execution_count": null
    },
    {
      "cell_type": "code",
      "source": [
        "def train(model: CNN, dataloader: DataLoader, loss_fn, optimizer):\n",
        "    train_correct = 0\n",
        "    train_loss = 0\n",
        "\n",
        "    model.train()\n",
        "    for batch, (X, y) in enumerate(dataloader):\n",
        "        X = [x.to(device) for x in X]\n",
        "        y = torch.tensor(y, device=device, dtype=torch.float)\n",
        "\n",
        "        output = model(X)\n",
        "\n",
        "        loss = loss_fn(output, y)\n",
        "\n",
        "        # backprop\n",
        "        loss.backward()\n",
        "        optimizer.step()\n",
        "        optimizer.zero_grad()\n",
        "\n",
        "        # check results\n",
        "        pred_probs = torch.nn.functional.sigmoid(output)\n",
        "        y_pred = (pred_probs >= 0.5).float()\n",
        "        correct = (y_pred == y).sum().item()\n",
        "\n",
        "        train_correct += correct\n",
        "        train_loss += loss.item()\n",
        "\n",
        "\n",
        "    return { 'correct': train_correct, 'loss': train_loss }\n"
      ],
      "metadata": {
        "id": "77pFEl2appdO",
        "trusted": true,
        "execution": {
          "iopub.status.busy": "2025-06-03T22:15:19.873685Z",
          "iopub.execute_input": "2025-06-03T22:15:19.873980Z",
          "iopub.status.idle": "2025-06-03T22:15:19.895833Z",
          "shell.execute_reply.started": "2025-06-03T22:15:19.873961Z",
          "shell.execute_reply": "2025-06-03T22:15:19.895175Z"
        }
      },
      "outputs": [],
      "execution_count": null
    },
    {
      "cell_type": "code",
      "source": [
        "def test(model: CNN, dataloader: DataLoader, loss_fn):\n",
        "    test_correct = 0\n",
        "    test_loss = 0\n",
        "\n",
        "    model.eval()\n",
        "    with torch.no_grad():\n",
        "        for X, y in dataloader:\n",
        "            X = [x.to(device) for x in X]\n",
        "            y = torch.tensor(y, device=device, dtype=torch.float)\n",
        "\n",
        "            output = model(X)\n",
        "            loss = loss_fn(output, y)\n",
        "\n",
        "            pred_probs = torch.nn.functional.sigmoid(output)\n",
        "            y_pred = (pred_probs >= 0.5).float()\n",
        "            correct = (y_pred == y).sum().item()\n",
        "\n",
        "            test_correct += correct\n",
        "            test_loss += loss.item()\n",
        "\n",
        "\n",
        "    return { 'correct': test_correct, 'loss': test_loss }\n"
      ],
      "metadata": {
        "id": "rMYsV7CJ4L4P",
        "trusted": true,
        "execution": {
          "iopub.status.busy": "2025-06-03T22:15:19.896729Z",
          "iopub.execute_input": "2025-06-03T22:15:19.897217Z",
          "iopub.status.idle": "2025-06-03T22:15:19.916414Z",
          "shell.execute_reply.started": "2025-06-03T22:15:19.897192Z",
          "shell.execute_reply": "2025-06-03T22:15:19.915774Z"
        }
      },
      "outputs": [],
      "execution_count": null
    },
    {
      "cell_type": "code",
      "source": [
        "def raytune_load_checkpoint(model: CNN, optim: torch.optim.Adam):\n",
        "    if tune.get_checkpoint():\n",
        "        loaded_checkpoint = tune.get_checkpoint()\n",
        "        with loaded_checkpoint.as_directory() as loaded_checkpoint_dir:\n",
        "            model_state, optim_state = torch.load(os.path.join(loaded_checkpoint_dir, 'checkpoint.pt'))\n",
        "            model.load_state_dict(model_state)\n",
        "            optim.load_state_dict(optim_state)\n"
      ],
      "metadata": {
        "id": "O--oIskrty1p",
        "trusted": true,
        "execution": {
          "iopub.status.busy": "2025-06-03T22:15:19.917121Z",
          "iopub.execute_input": "2025-06-03T22:15:19.917359Z",
          "iopub.status.idle": "2025-06-03T22:15:19.934939Z",
          "shell.execute_reply.started": "2025-06-03T22:15:19.917339Z",
          "shell.execute_reply": "2025-06-03T22:15:19.934300Z"
        }
      },
      "outputs": [],
      "execution_count": null
    },
    {
      "cell_type": "code",
      "source": [
        "def raytune_save_checkpoint(model: CNN, optim: torch.optim.Adam, train_metrics, test_metrics):\n",
        "    with tempfile.TemporaryDirectory() as temp_checkpoint_dir:\n",
        "        path = os.path.join(temp_checkpoint_dir, 'checkpoint.pt')\n",
        "        torch.save((model.state_dict(), optim.state_dict()), path)\n",
        "        checkpoint = tune.Checkpoint.from_directory(temp_checkpoint_dir)\n",
        "        tune.report({**train_metrics, **test_metrics}, checkpoint=checkpoint)\n"
      ],
      "metadata": {
        "id": "1JBhi6z8xQvu",
        "trusted": true,
        "execution": {
          "iopub.status.busy": "2025-06-03T22:15:19.935684Z",
          "iopub.execute_input": "2025-06-03T22:15:19.935932Z",
          "iopub.status.idle": "2025-06-03T22:15:19.952945Z",
          "shell.execute_reply.started": "2025-06-03T22:15:19.935916Z",
          "shell.execute_reply": "2025-06-03T22:15:19.952187Z"
        }
      },
      "outputs": [],
      "execution_count": null
    },
    {
      "cell_type": "code",
      "source": [
        "from datetime import datetime\n",
        "\n",
        "def train_model(config):\n",
        "    lr = config['lr']\n",
        "    epochs = config['epochs']\n",
        "    batch_size = config['batch_size']\n",
        "\n",
        "    model = CNN(\n",
        "        config['l1_c'],\n",
        "        config['l1_cnk'],\n",
        "        config['l1_pk'],\n",
        "        config['l1_ps'],\n",
        "        config['l2_c'],\n",
        "        config['l2_cnk'],\n",
        "        config['l2_pk'],\n",
        "        config['l2_ps'],\n",
        "        config['l3_c'],\n",
        "        config['l3_cnk'],\n",
        "        config['l3_pk'],\n",
        "        config['l3_ps'],\n",
        "        config['l4_c'],\n",
        "        config['l4_cnk'],\n",
        "        config['l4_pk'],\n",
        "        config['l4_ps'],\n",
        "        config['l5_c'],\n",
        "        config['l5_cnk'],\n",
        "        config['l5_pk'],\n",
        "        config['l5_ps'],\n",
        "    )\n",
        "\n",
        "    model.to(device)\n",
        "\n",
        "    loss_fn = torch.nn.BCEWithLogitsLoss()\n",
        "    optim = torch.optim.Adam(model.parameters(), lr=lr)\n",
        "\n",
        "    wandb.init(project='cats_dogs_classifier', group='experiment_9', config=config)\n",
        "\n",
        "\n",
        "    raytune_load_checkpoint(model, optim)\n",
        "\n",
        "    train_metrics = None\n",
        "    test_metrics = None\n",
        "\n",
        "    for t in range(epochs):\n",
        "        train_state = { 'correct': 0, 'loss': 0, 'nbatches': 0, 'dataset_size': 0 }\n",
        "        test_state = { 'correct': 0, 'loss': 0, 'nbatches': 0, 'dataset_size': 0 }\n",
        "\n",
        "        start = datetime.now()\n",
        "\n",
        "        npartitions = train_set.npartitions\n",
        "        for partition in range(npartitions):\n",
        "\n",
        "            train_dataloader = DataLoader(\n",
        "                train_datasets[partition].compute(),\n",
        "                batch_size=batch_size,\n",
        "                shuffle=True,\n",
        "                num_workers=4,\n",
        "                pin_memory=True,\n",
        "                # Note that images vary in size and\n",
        "                # batches are tuples not torch.Tensor\n",
        "                collate_fn=lambda batch: tuple(zip(*batch))\n",
        "            )\n",
        "\n",
        "            test_dataloader = DataLoader(\n",
        "                test_datasets[partition].compute(),\n",
        "                batch_size=batch_size,\n",
        "                shuffle=True,\n",
        "                num_workers=4,\n",
        "                pin_memory=True,\n",
        "                # Note that images vary in size and\n",
        "                # batches are tuples not torch.Tensor\n",
        "                collate_fn=lambda batch: tuple(zip(*batch))\n",
        "            )\n",
        "\n",
        "            train_metrics = train(model, train_dataloader, loss_fn, optim)\n",
        "            test_metrics = test(model, test_dataloader, loss_fn)\n",
        "\n",
        "\n",
        "            train_state['correct'] += train_metrics['correct']\n",
        "            train_state['loss'] += train_metrics['loss']\n",
        "            train_state['nbatches'] += len(train_dataloader)\n",
        "            train_state['dataset_size'] += len(train_dataloader.dataset)\n",
        "\n",
        "            test_state['correct'] += test_metrics['correct']\n",
        "            test_state['loss'] += test_metrics['loss']\n",
        "            test_state['nbatches'] += len(test_dataloader)\n",
        "            test_state['dataset_size'] += len(test_dataloader.dataset)\n",
        "\n",
        "        end = datetime.now()\n",
        "\n",
        "        print(f'epoch {t}, time: {end - start}\\n')\n",
        "\n",
        "        train_correct = train_state['correct'] / train_state['dataset_size']\n",
        "        train_loss = train_state['loss'] / train_state['nbatches']\n",
        "\n",
        "        test_correct = test_state['correct'] / test_state['dataset_size']\n",
        "        test_loss = test_state['loss'] / test_state['nbatches']\n",
        "\n",
        "        wandb.log({ 'train_accuracy': train_correct, 'train_loss': train_loss, 'epoch': t })\n",
        "        wandb.log({ 'test_accuracy': test_correct, 'test_loss': test_loss, 'epoch': t })\n",
        "\n",
        "\n",
        "    raytune_save_checkpoint(\n",
        "        model,\n",
        "        optim,\n",
        "        { 'train_accuracy': train_correct, 'train_loss': train_loss, 'epoch': t },\n",
        "        { 'test_accuracy': test_correct, 'test_loss': test_loss, 'epoch': t }\n",
        "    )\n",
        "\n",
        "    wandb.finish()\n"
      ],
      "metadata": {
        "id": "ilA-L-suqU0g",
        "trusted": true,
        "execution": {
          "iopub.status.busy": "2025-06-03T22:15:19.953696Z",
          "iopub.execute_input": "2025-06-03T22:15:19.954016Z",
          "iopub.status.idle": "2025-06-03T22:15:19.975797Z",
          "shell.execute_reply.started": "2025-06-03T22:15:19.953999Z",
          "shell.execute_reply": "2025-06-03T22:15:19.975058Z"
        }
      },
      "outputs": [],
      "execution_count": null
    },
    {
      "cell_type": "code",
      "source": [
        "config = {\n",
        "    'l1_c': tune.choice([32]),\n",
        "    'l1_cnk': tune.choice([3]),\n",
        "    'l1_pk': tune.choice([4]),\n",
        "    'l1_ps': tune.choice([2]),\n",
        "\n",
        "    'l2_c': tune.choice([32]),\n",
        "    'l2_cnk': tune.choice([3]),\n",
        "    'l2_pk': tune.choice([4]),\n",
        "    'l2_ps': tune.choice([2]),\n",
        "\n",
        "    'l3_c': tune.choice([32]),\n",
        "    'l3_cnk': tune.choice([3]),\n",
        "    'l3_pk': tune.choice([4]),\n",
        "    'l3_ps': tune.choice([2]),\n",
        "\n",
        "    'l4_c': tune.choice([32]),\n",
        "    'l4_cnk': tune.choice([3]),\n",
        "    'l4_pk': tune.choice([4]),\n",
        "    'l4_ps': tune.choice([2]),\n",
        "\n",
        "    'l5_c': tune.choice([64]),\n",
        "    'l5_cnk': tune.choice([3]),\n",
        "    'l5_pk': tune.choice([4]),\n",
        "    'l5_ps': tune.choice([2]),\n",
        "\n",
        "    'lr': tune.choice([3e-3]),\n",
        "    'batch_size': tune.choice([64]),\n",
        "    'epochs': 20,\n",
        "    'num_trials': 1,\n",
        "}\n",
        "\n",
        "scheduler = ASHAScheduler(\n",
        "    time_attr='training_iteration',\n",
        "    max_t=config['epochs'],\n",
        "    grace_period=1,\n",
        "    reduction_factor=2\n",
        ")\n",
        "\n",
        "tuner = tune.Tuner(\n",
        "    tune.with_resources(\n",
        "        tune.with_parameters(train_model),\n",
        "        # resources={}\n",
        "        resources={ 'cpu': 4, 'gpu': 1, 'accelerator_type:P100': 1 }\n",
        "    ),\n",
        "\n",
        "    tune_config=tune.TuneConfig(\n",
        "        metric='test_loss',\n",
        "        mode='min',\n",
        "        scheduler=scheduler,\n",
        "        num_samples=config['num_trials']\n",
        "    ),\n",
        "\n",
        "    param_space=config\n",
        ")\n",
        "\n",
        "results = tuner.fit()\n",
        "\n",
        "best_result = results.get_best_result('test_loss', 'min')\n",
        "\n",
        "print(f'Best trial config: { best_result.config }')\n",
        "print(f'Best trial final validation loss: { best_result.metrics[\"test_loss\"] }')\n",
        "print(f'Best trial final validation accuracy: { best_result.metrics[\"test_accuracy\"] }')"
      ],
      "metadata": {
        "id": "NBNdCvusbLiq",
        "colab": {
          "base_uri": "https://localhost:8080/"
        },
        "outputId": "1c23738b-82b1-429c-9020-01c20d7111e7",
        "trusted": true,
        "execution": {
          "iopub.status.busy": "2025-06-03T22:28:18.089584Z",
          "iopub.execute_input": "2025-06-03T22:28:18.089930Z",
          "iopub.status.idle": "2025-06-03T23:00:59.097432Z",
          "shell.execute_reply.started": "2025-06-03T22:28:18.089905Z",
          "shell.execute_reply": "2025-06-03T23:00:59.096747Z"
        }
      },
      "outputs": [
        {
          "output_type": "display_data",
          "data": {
            "text/plain": "<IPython.core.display.HTML object>",
            "text/html": "<div class=\"tuneStatus\">\n  <div style=\"display: flex;flex-direction: row\">\n    <div style=\"display: flex;flex-direction: column;\">\n      <h3>Tune Status</h3>\n      <table>\n<tbody>\n<tr><td>Current time:</td><td>2025-06-03 23:00:59</td></tr>\n<tr><td>Running for: </td><td>00:32:40.92        </td></tr>\n<tr><td>Memory:      </td><td>7.2/31.4 GiB       </td></tr>\n</tbody>\n</table>\n    </div>\n    <div class=\"vDivider\"></div>\n    <div class=\"systemInfo\">\n      <h3>System Info</h3>\n      Using AsyncHyperBand: num_stopped=0<br>Bracket: Iter 16.000: None | Iter 8.000: None | Iter 4.000: None | Iter 2.000: None | Iter 1.000: -0.32003129263446756<br>Logical resource usage: 4.0/4 CPUs, 1.0/1 GPUs (1.0/1.0 accelerator_type:P100)\n    </div>\n    \n  </div>\n  <div class=\"hDivider\"></div>\n  <div class=\"trialStatus\">\n    <h3>Trial Status</h3>\n    <table>\n<thead>\n<tr><th>Trial name             </th><th>status    </th><th>loc            </th><th style=\"text-align: right;\">  batch_size</th><th style=\"text-align: right;\">  l1_c</th><th style=\"text-align: right;\">  l1_cnk</th><th style=\"text-align: right;\">  l1_pk</th><th style=\"text-align: right;\">  l1_ps</th><th style=\"text-align: right;\">  l2_c</th><th style=\"text-align: right;\">  l2_cnk</th><th style=\"text-align: right;\">  l2_pk</th><th style=\"text-align: right;\">  l2_ps</th><th style=\"text-align: right;\">  l3_c</th><th style=\"text-align: right;\">  l3_cnk</th><th style=\"text-align: right;\">  l3_pk</th><th style=\"text-align: right;\">  l3_ps</th><th style=\"text-align: right;\">  l4_c</th><th style=\"text-align: right;\">  l4_cnk</th><th style=\"text-align: right;\">  l4_pk</th><th style=\"text-align: right;\">  l4_ps</th><th style=\"text-align: right;\">  l5_c</th><th style=\"text-align: right;\">  l5_cnk</th><th style=\"text-align: right;\">  l5_pk</th><th style=\"text-align: right;\">  l5_ps</th><th style=\"text-align: right;\">   lr</th><th style=\"text-align: right;\">  iter</th><th style=\"text-align: right;\">  total time (s)</th><th style=\"text-align: right;\">  train_accuracy</th><th style=\"text-align: right;\">  train_loss</th><th style=\"text-align: right;\">  epoch</th></tr>\n</thead>\n<tbody>\n<tr><td>train_model_0c3f6_00000</td><td>TERMINATED</td><td>172.19.2.2:1178</td><td style=\"text-align: right;\">          64</td><td style=\"text-align: right;\">    32</td><td style=\"text-align: right;\">       3</td><td style=\"text-align: right;\">      4</td><td style=\"text-align: right;\">      2</td><td style=\"text-align: right;\">    32</td><td style=\"text-align: right;\">       3</td><td style=\"text-align: right;\">      4</td><td style=\"text-align: right;\">      2</td><td style=\"text-align: right;\">    32</td><td style=\"text-align: right;\">       3</td><td style=\"text-align: right;\">      4</td><td style=\"text-align: right;\">      2</td><td style=\"text-align: right;\">    32</td><td style=\"text-align: right;\">       3</td><td style=\"text-align: right;\">      4</td><td style=\"text-align: right;\">      2</td><td style=\"text-align: right;\">    64</td><td style=\"text-align: right;\">       3</td><td style=\"text-align: right;\">      4</td><td style=\"text-align: right;\">      2</td><td style=\"text-align: right;\">0.003</td><td style=\"text-align: right;\">     1</td><td style=\"text-align: right;\">          1951.6</td><td style=\"text-align: right;\">        0.899097</td><td style=\"text-align: right;\">    0.233802</td><td style=\"text-align: right;\">     19</td></tr>\n</tbody>\n</table>\n  </div>\n</div>\n<style>\n.tuneStatus {\n  color: var(--jp-ui-font-color1);\n}\n.tuneStatus .systemInfo {\n  display: flex;\n  flex-direction: column;\n}\n.tuneStatus td {\n  white-space: nowrap;\n}\n.tuneStatus .trialStatus {\n  display: flex;\n  flex-direction: column;\n}\n.tuneStatus h3 {\n  font-weight: bold;\n}\n.tuneStatus .hDivider {\n  border-bottom-width: var(--jp-border-width);\n  border-bottom-color: var(--jp-border-color0);\n  border-bottom-style: solid;\n}\n.tuneStatus .vDivider {\n  border-left-width: var(--jp-border-width);\n  border-left-color: var(--jp-border-color0);\n  border-left-style: solid;\n  margin: 0.5em 1em 0.5em 1em;\n}\n</style>\n"
          },
          "metadata": {}
        },
        {
          "name": "stderr",
          "text": "\u001b[36m(train_model pid=1178)\u001b[0m wandb: Currently logged in as: edwinsoftwaredev (edwinsoftwaredev-personal) to https://api.wandb.ai. Use `wandb login --relogin` to force relogin\n\u001b[36m(train_model pid=1178)\u001b[0m wandb: Tracking run with wandb version 0.19.9\n\u001b[36m(train_model pid=1178)\u001b[0m wandb: Run data is saved locally in /tmp/ray/session_2025-06-03_22-15-20_022967_35/artifacts/2025-06-03_22-28-18/train_model_2025-06-03_22-28-18/working_dirs/train_model_0c3f6_00000_0_batch_size=64,l1_c=32,l1_cnk=3,l1_pk=4,l1_ps=2,l2_c=32,l2_cnk=3,l2_pk=4,l2_ps=2,l3_c=32,l3_cnk=3,l3_pk=4_2025-06-03_22-28-18/wandb/run-20250603_222827-kkwpey71\n\u001b[36m(train_model pid=1178)\u001b[0m wandb: Run `wandb offline` to turn off syncing.\n\u001b[36m(train_model pid=1178)\u001b[0m wandb: Syncing run dashing-tree-160\n\u001b[36m(train_model pid=1178)\u001b[0m wandb: ⭐️ View project at https://wandb.ai/edwinsoftwaredev-personal/cats_dogs_classifier\n\u001b[36m(train_model pid=1178)\u001b[0m wandb: 🚀 View run at https://wandb.ai/edwinsoftwaredev-personal/cats_dogs_classifier/runs/kkwpey71\n",
          "output_type": "stream"
        },
        {
          "name": "stdout",
          "text": "\u001b[36m(train_model pid=1178)\u001b[0m epoch 0, time: 0:01:44.653771\n\u001b[36m(train_model pid=1178)\u001b[0m \n\u001b[36m(train_model pid=1178)\u001b[0m epoch 1, time: 0:01:41.328804\n\u001b[36m(train_model pid=1178)\u001b[0m \n\u001b[36m(train_model pid=1178)\u001b[0m epoch 2, time: 0:01:40.680912\n\u001b[36m(train_model pid=1178)\u001b[0m \n\u001b[36m(train_model pid=1178)\u001b[0m epoch 3, time: 0:01:38.314224\n\u001b[36m(train_model pid=1178)\u001b[0m \n\u001b[36m(train_model pid=1178)\u001b[0m epoch 4, time: 0:01:38.378372\n\u001b[36m(train_model pid=1178)\u001b[0m \n\u001b[36m(train_model pid=1178)\u001b[0m epoch 5, time: 0:01:41.644334\n\u001b[36m(train_model pid=1178)\u001b[0m \n\u001b[36m(train_model pid=1178)\u001b[0m epoch 6, time: 0:01:40.629215\n\u001b[36m(train_model pid=1178)\u001b[0m \n\u001b[36m(train_model pid=1178)\u001b[0m epoch 7, time: 0:01:38.884804\n\u001b[36m(train_model pid=1178)\u001b[0m \n\u001b[36m(train_model pid=1178)\u001b[0m epoch 8, time: 0:01:37.796598\n\u001b[36m(train_model pid=1178)\u001b[0m \n\u001b[36m(train_model pid=1178)\u001b[0m epoch 9, time: 0:01:36.731932\n\u001b[36m(train_model pid=1178)\u001b[0m \n\u001b[36m(train_model pid=1178)\u001b[0m epoch 10, time: 0:01:36.299611\n\u001b[36m(train_model pid=1178)\u001b[0m \n\u001b[36m(train_model pid=1178)\u001b[0m epoch 11, time: 0:01:35.973773\n\u001b[36m(train_model pid=1178)\u001b[0m \n\u001b[36m(train_model pid=1178)\u001b[0m epoch 12, time: 0:01:35.579545\n\u001b[36m(train_model pid=1178)\u001b[0m \n\u001b[36m(train_model pid=1178)\u001b[0m epoch 13, time: 0:01:35.099451\n\u001b[36m(train_model pid=1178)\u001b[0m \n\u001b[36m(train_model pid=1178)\u001b[0m epoch 14, time: 0:01:35.046865\n\u001b[36m(train_model pid=1178)\u001b[0m \n\u001b[36m(train_model pid=1178)\u001b[0m epoch 15, time: 0:01:34.259941\n\u001b[36m(train_model pid=1178)\u001b[0m \n\u001b[36m(train_model pid=1178)\u001b[0m epoch 16, time: 0:01:34.822374\n\u001b[36m(train_model pid=1178)\u001b[0m \n\u001b[36m(train_model pid=1178)\u001b[0m epoch 17, time: 0:01:34.269125\n\u001b[36m(train_model pid=1178)\u001b[0m \n\u001b[36m(train_model pid=1178)\u001b[0m epoch 18, time: 0:01:34.749489\n\u001b[36m(train_model pid=1178)\u001b[0m \n\u001b[36m(train_model pid=1178)\u001b[0m epoch 19, time: 0:01:35.292294\n\u001b[36m(train_model pid=1178)\u001b[0m \n",
          "output_type": "stream"
        },
        {
          "name": "stderr",
          "text": "\u001b[36m(train_model pid=1178)\u001b[0m Checkpoint successfully created at: Checkpoint(filesystem=local, path=/root/ray_results/train_model_2025-06-03_22-28-18/train_model_0c3f6_00000_0_batch_size=64,l1_c=32,l1_cnk=3,l1_pk=4,l1_ps=2,l2_c=32,l2_cnk=3,l2_pk=4,l2_ps=2,l3_c=32,l3_cnk=3,l3_pk=4_2025-06-03_22-28-18/checkpoint_000000)\n\u001b[36m(train_model pid=1178)\u001b[0m wandb:                                                                                \n\u001b[36m(train_model pid=1178)\u001b[0m wandb: \n\u001b[36m(train_model pid=1178)\u001b[0m wandb: Run history:\n\u001b[36m(train_model pid=1178)\u001b[0m wandb:          epoch ▁▁▁▁▂▂▂▂▂▂▃▃▃▃▄▄▄▄▄▄▅▅▅▅▅▅▆▆▆▆▇▇▇▇▇▇████\n\u001b[36m(train_model pid=1178)\u001b[0m wandb:  test_accuracy ▁▄▅▆▆▇▇▇▇▇██████████\n\u001b[36m(train_model pid=1178)\u001b[0m wandb:      test_loss █▆▅▃▄▃▃▂▂▂▂▂▁▁▁▁▂▁▁▁\n\u001b[36m(train_model pid=1178)\u001b[0m wandb: train_accuracy ▁▄▅▆▆▆▇▇▇▇▇▇▇███████\n\u001b[36m(train_model pid=1178)\u001b[0m wandb:     train_loss █▆▅▄▄▃▃▃▂▂▂▂▂▂▂▁▁▁▁▁\n\u001b[36m(train_model pid=1178)\u001b[0m wandb: \n\u001b[36m(train_model pid=1178)\u001b[0m wandb: Run summary:\n\u001b[36m(train_model pid=1178)\u001b[0m wandb:          epoch 19\n\u001b[36m(train_model pid=1178)\u001b[0m wandb:  test_accuracy 0.86659\n\u001b[36m(train_model pid=1178)\u001b[0m wandb:      test_loss 0.32003\n\u001b[36m(train_model pid=1178)\u001b[0m wandb: train_accuracy 0.8991\n\u001b[36m(train_model pid=1178)\u001b[0m wandb:     train_loss 0.2338\n\u001b[36m(train_model pid=1178)\u001b[0m wandb: \n\u001b[36m(train_model pid=1178)\u001b[0m wandb: 🚀 View run dashing-tree-160 at: https://wandb.ai/edwinsoftwaredev-personal/cats_dogs_classifier/runs/kkwpey71\n\u001b[36m(train_model pid=1178)\u001b[0m wandb: ⭐️ View project at: https://wandb.ai/edwinsoftwaredev-personal/cats_dogs_classifier\n\u001b[36m(train_model pid=1178)\u001b[0m wandb: Synced 5 W&B file(s), 0 media file(s), 0 artifact file(s) and 0 other file(s)\n\u001b[36m(train_model pid=1178)\u001b[0m wandb: Find logs at: ./wandb/run-20250603_222827-kkwpey71/logs\n2025-06-03 23:00:59,084\tINFO tune.py:1009 -- Wrote the latest version of all result files and experiment state to '/root/ray_results/train_model_2025-06-03_22-28-18' in 0.0042s.\n2025-06-03 23:00:59,090\tINFO tune.py:1041 -- Total run time: 1960.97 seconds (1960.92 seconds for the tuning loop).\n",
          "output_type": "stream"
        },
        {
          "name": "stdout",
          "text": "Best trial config: {'l1_c': 32, 'l1_cnk': 3, 'l1_pk': 4, 'l1_ps': 2, 'l2_c': 32, 'l2_cnk': 3, 'l2_pk': 4, 'l2_ps': 2, 'l3_c': 32, 'l3_cnk': 3, 'l3_pk': 4, 'l3_ps': 2, 'l4_c': 32, 'l4_cnk': 3, 'l4_pk': 4, 'l4_ps': 2, 'l5_c': 64, 'l5_cnk': 3, 'l5_pk': 4, 'l5_ps': 2, 'lr': 0.003, 'batch_size': 64, 'epochs': 20, 'num_trials': 1}\nBest trial final validation loss: 0.32003129263446756\nBest trial final validation accuracy: 0.866593886462882\n",
          "output_type": "stream"
        }
      ],
      "execution_count": null
    }
  ]
}