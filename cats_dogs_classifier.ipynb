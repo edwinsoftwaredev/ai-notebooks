{
  "cells": [
    {
      "cell_type": "markdown",
      "metadata": {
        "id": "view-in-github",
        "colab_type": "text"
      },
      "source": [
        "<a href=\"https://colab.research.google.com/github/edwinsoftwaredev/ai-notebooks/blob/main/cats_dogs_classifier.ipynb\" target=\"_parent\"><img src=\"https://colab.research.google.com/assets/colab-badge.svg\" alt=\"Open In Colab\"/></a>"
      ]
    },
    {
      "cell_type": "code",
      "execution_count": null,
      "metadata": {
        "id": "yGbdgNTCTdx4"
      },
      "outputs": [],
      "source": [
        "!pip install wandb\n",
        "!pip install \"ray[tune]\"\n",
        "!pip install \"dask[complete]\"\n",
        "\n",
        "import wandb\n",
        "wandb.login()"
      ]
    },
    {
      "cell_type": "code",
      "execution_count": 2,
      "metadata": {
        "id": "fgrUxruf0xjs"
      },
      "outputs": [],
      "source": [
        "import os\n",
        "import tempfile\n",
        "\n",
        "import io\n",
        "from PIL import Image\n",
        "\n",
        "import torch\n",
        "from torchvision.transforms import v2\n",
        "from torch.utils.data import TensorDataset, DataLoader, Dataset\n",
        "from torch import nn\n",
        "\n",
        "device = torch.device('cuda' if torch.cuda.is_available() else 'cpu')\n",
        "\n",
        "import ray\n",
        "from ray import train, tune\n",
        "from ray.tune.schedulers import ASHAScheduler\n",
        "\n",
        "import dask"
      ]
    },
    {
      "cell_type": "code",
      "execution_count": 3,
      "metadata": {
        "id": "ELfhQBx35_my"
      },
      "outputs": [],
      "source": [
        "transforms = v2.Compose([\n",
        "    v2.PILToTensor(),\n",
        "    v2.ToDtype(torch.float32, scale=True),\n",
        "    v2.Resize(128),     # TODO: replace with custom function\n",
        "    v2.CenterCrop(128),\n",
        "    v2.Normalize(mean=[0.485, 0.456, 0.406], std=[0.229, 0.224, 0.225]),\n",
        "])"
      ]
    },
    {
      "cell_type": "code",
      "execution_count": 4,
      "metadata": {
        "id": "PIZ7bgaSDmBw"
      },
      "outputs": [],
      "source": [
        "def apply_transforms(img):\n",
        "    # PIL Image object\n",
        "    img_pil = Image.open(io.BytesIO(img['bytes']))\n",
        "    img_pil = img_pil.convert('RGB') # TODO: check dimensions mismatch\n",
        "    return transforms(img_pil)"
      ]
    },
    {
      "cell_type": "code",
      "execution_count": 5,
      "metadata": {
        "id": "6Oqe6YbmzxU4"
      },
      "outputs": [],
      "source": [
        "class ImageDataset(Dataset):\n",
        "    def __init__(self, images, labels):\n",
        "        self.images = images\n",
        "        self.labels = labels\n",
        "\n",
        "\n",
        "    def __len__(self):\n",
        "        return len(self.labels)\n",
        "\n",
        "\n",
        "    def __getitem__(self, idx):\n",
        "        image = self.images.iloc[idx]\n",
        "        label = self.labels.iloc[idx]\n",
        "\n",
        "        # Note that for each image this happens\n",
        "        # on every epoch\n",
        "        image = apply_transforms(image)\n",
        "\n",
        "        return image, label\n"
      ]
    },
    {
      "cell_type": "code",
      "execution_count": 6,
      "metadata": {
        "id": "5xIxNyYZu-tX"
      },
      "outputs": [],
      "source": [
        "@dask.delayed\n",
        "def partitions_to_datasets(partition):\n",
        "    return ImageDataset(partition['image'], partition['labels'])\n"
      ]
    },
    {
      "cell_type": "code",
      "execution_count": null,
      "metadata": {
        "id": "m2ocSIjCfYwe"
      },
      "outputs": [],
      "source": [
        "import dask.dataframe as dd\n",
        "import pyarrow as pa\n",
        "\n",
        "import numpy as np\n",
        "from random import randint\n",
        "\n",
        "ddf = dd.read_parquet(\"hf://datasets/microsoft/cats_vs_dogs/data/train-*.parquet\")\n",
        "\n",
        "ddf.to_parquet('/content/cats_vs_dogs_parquet', schema={ 'image': pa.struct([('bytes', pa.binary()), ('path', pa.string())]), 'labels': pa.int64() })\n",
        "\n",
        "def add_random_col(df):\n",
        "    seed = randint(100, 200)\n",
        "    rng = np.random.RandomState(seed)\n",
        "    return df.assign(_rand=rng.rand(len(df)))\n",
        "\n",
        "# Assign a random column in each partition with a different seed\n",
        "ddf = ddf.map_partitions(add_random_col)\n",
        "\n",
        "ddf = ddf.shuffle(ddf.columns[2], ignore_index=True)\n",
        "\n",
        "ddf.to_parquet('/content/cats_vs_dogs_parquet', schema={ 'image': pa.struct([('bytes', pa.binary()), ('path', pa.string())]), 'labels': pa.int64() })\n",
        "\n",
        "ddf = dd.read_parquet('/content/cats_vs_dogs_parquet')\n",
        "\n",
        "ddf = ddf.random_split([0.8, 0.2], random_state=123, shuffle=True)\n",
        "\n",
        "train_set, test_set = ddf\n",
        "\n",
        "train_datasets = [partitions_to_datasets(partition) for partition in train_set.to_delayed()]\n",
        "test_datasets = [partitions_to_datasets(partition) for partition in test_set.to_delayed()]"
      ]
    },
    {
      "cell_type": "code",
      "source": [
        "train_datasets[0].visualize()"
      ],
      "metadata": {
        "colab": {
          "base_uri": "https://localhost:8080/",
          "height": 694
        },
        "id": "w0bHQ6exUyzX",
        "outputId": "8cc52976-a061-486d-8f54-e283ffe283be"
      },
      "execution_count": 8,
      "outputs": [
        {
          "output_type": "execute_result",
          "data": {
            "image/png": "[encoded data removed]",
            "text/plain": [
              "<IPython.core.display.Image object>"
            ]
          },
          "metadata": {},
          "execution_count": 8
        }
      ]
    },
    {
      "cell_type": "code",
      "execution_count": 17,
      "metadata": {
        "id": "gM1172d6Da5B"
      },
      "outputs": [],
      "source": [
        "class CNN(nn.Module):\n",
        "    def __init__(\n",
        "            self,\n",
        "            l1_c,\n",
        "            l1_cnk,\n",
        "            l1_pk,\n",
        "            l1_ps,\n",
        "            l2_c,\n",
        "            l2_cnk,\n",
        "            l2_pk,\n",
        "            l2_ps,\n",
        "            l3_c,\n",
        "            l3_cnk,\n",
        "            l4_c,\n",
        "            l4_cnk,\n",
        "        ):\n",
        "\n",
        "        super().__init__()\n",
        "\n",
        "        self.cnn = nn.Sequential(\n",
        "            # l1\n",
        "            nn.Conv2d(3, l1_c, l1_cnk, bias=False),\n",
        "            nn.BatchNorm2d(l1_c, affine=True),\n",
        "            nn.Hardswish(),\n",
        "            nn.MaxPool2d(l1_pk, stride=l1_ps),\n",
        "\n",
        "            # l2\n",
        "            nn.Conv2d(l1_c, l2_c, l2_cnk, bias=False),\n",
        "            nn.BatchNorm2d(l2_c, affine=True),\n",
        "            nn.Hardswish(),\n",
        "            nn.MaxPool2d(l2_pk, stride=l2_ps),\n",
        "\n",
        "            # l3\n",
        "            nn.Conv2d(l2_c, l3_c, l3_cnk),\n",
        "            nn.Hardswish(),\n",
        "\n",
        "            # l4\n",
        "            nn.Conv2d(l3_c, l4_c, l4_cnk),\n",
        "            nn.Hardswish(),\n",
        "\n",
        "            # output\n",
        "            nn.Conv2d(l1_c, 1, 1),      # 1 channel == 1 class == 0-1 probability\n",
        "            nn.AdaptiveAvgPool2d(1)     # global avg pooling\n",
        "        )\n",
        "\n",
        "\n",
        "    def forward(self, images):\n",
        "        # images: list of image tensors with shape (3, H, W), variable H and W\n",
        "\n",
        "        outputs = []\n",
        "        for image in images:\n",
        "            image = image.unsqueeze(0)                      # (1, 3, H, W) adds dim N (N, C, H, W)\n",
        "            output = self.cnn(image)                        # (1, 1, 1, 1) -> output layer\n",
        "            # output = output.view(output.size(0), -1)      # (N, C) or (N, flatten remaining dimensions)\n",
        "            output = output.view(-1)                        # flatten the whole tensor to match target (y) tensor\n",
        "            outputs.append(output)\n",
        "\n",
        "\n",
        "        return torch.cat(outputs, dim=0)\n"
      ]
    },
    {
      "cell_type": "code",
      "execution_count": 10,
      "metadata": {
        "id": "77pFEl2appdO"
      },
      "outputs": [],
      "source": [
        "def train(model: CNN, dataloader: DataLoader, loss_fn, optimizer):\n",
        "    train_correct = 0\n",
        "    train_loss = 0\n",
        "\n",
        "    model.train()\n",
        "    for batch, (X, y) in enumerate(dataloader):\n",
        "        X = [x.to(device) for x in X]\n",
        "        y = torch.tensor(y, device=device, dtype=torch.float)\n",
        "\n",
        "        output = model(X)\n",
        "\n",
        "        loss = loss_fn(output, y)\n",
        "\n",
        "        # backprop\n",
        "        loss.backward()\n",
        "        optimizer.step()\n",
        "        optimizer.zero_grad()\n",
        "\n",
        "        # check results\n",
        "        pred_probs = torch.nn.functional.sigmoid(output)\n",
        "        y_pred = (pred_probs >= 0.5).float()\n",
        "        correct = (y_pred == y).sum().item()\n",
        "\n",
        "        train_correct += correct\n",
        "        train_loss += loss.item()\n",
        "\n",
        "\n",
        "    return { 'correct': train_correct, 'loss': train_loss }\n"
      ]
    },
    {
      "cell_type": "code",
      "execution_count": 11,
      "metadata": {
        "id": "rMYsV7CJ4L4P"
      },
      "outputs": [],
      "source": [
        "def test(model: CNN, dataloader: DataLoader, loss_fn):\n",
        "    test_correct = 0\n",
        "    test_loss = 0\n",
        "\n",
        "    model.eval()\n",
        "    with torch.no_grad():\n",
        "        for X, y in dataloader:\n",
        "            X = [x.to(device) for x in X]\n",
        "            y = torch.tensor(y, device=device, dtype=torch.float)\n",
        "\n",
        "            output = model(X)\n",
        "            loss = loss_fn(output, y)\n",
        "\n",
        "            pred_probs = torch.nn.functional.sigmoid(output)\n",
        "            y_pred = (pred_probs >= 0.5).float()\n",
        "            correct = (y_pred == y).sum().item()\n",
        "\n",
        "            test_correct += correct\n",
        "            test_loss += loss.item()\n",
        "\n",
        "\n",
        "    return { 'correct': test_correct, 'loss': test_loss }\n"
      ]
    },
    {
      "cell_type": "code",
      "execution_count": 12,
      "metadata": {
        "id": "O--oIskrty1p"
      },
      "outputs": [],
      "source": [
        "def raytune_load_checkpoint(model: CNN, optim: torch.optim.Adam):\n",
        "    if tune.get_checkpoint():\n",
        "        loaded_checkpoint = tune.get_checkpoint()\n",
        "        with loaded_checkpoint.as_directory() as loaded_checkpoint_dir:\n",
        "            model_state, optim_state = torch.load(os.path.join(loaded_checkpoint_dir, 'checkpoint.pt'))\n",
        "            model.load_state_dict(model_state)\n",
        "            optim.load_state_dict(optim_state)\n"
      ]
    },
    {
      "cell_type": "code",
      "execution_count": 13,
      "metadata": {
        "id": "1JBhi6z8xQvu"
      },
      "outputs": [],
      "source": [
        "def raytune_save_checkpoint(model: CNN, optim: torch.optim.Adam, train_metrics, test_metrics):\n",
        "    with tempfile.TemporaryDirectory() as temp_checkpoint_dir:\n",
        "        path = os.path.join(temp_checkpoint_dir, 'checkpoint.pt')\n",
        "        torch.save((model.state_dict(), optim.state_dict()), path)\n",
        "        checkpoint = tune.Checkpoint.from_directory(temp_checkpoint_dir)\n",
        "        tune.report({**train_metrics, **test_metrics}, checkpoint=checkpoint)\n"
      ]
    },
    {
      "cell_type": "code",
      "execution_count": 18,
      "metadata": {
        "id": "ilA-L-suqU0g"
      },
      "outputs": [],
      "source": [
        "from datetime import datetime\n",
        "\n",
        "def train_model(config):\n",
        "    lr = config['lr']\n",
        "    epochs = config['epochs']\n",
        "    batch_size = config['batch_size']\n",
        "\n",
        "    model = CNN(\n",
        "        config['l1_c'],\n",
        "        config['l1_cnk'],\n",
        "        config['l1_pk'],\n",
        "        config['l1_ps'],\n",
        "        config['l2_c'],\n",
        "        config['l2_cnk'],\n",
        "        config['l2_pk'],\n",
        "        config['l2_ps'],\n",
        "        config['l3_c'],\n",
        "        config['l3_cnk'],\n",
        "        config['l4_c'],\n",
        "        config['l4_cnk'],\n",
        "    )\n",
        "\n",
        "    model.to(device)\n",
        "\n",
        "    loss_fn = torch.nn.BCEWithLogitsLoss()\n",
        "    optim = torch.optim.Adam(model.parameters(), lr=lr)\n",
        "\n",
        "    wandb.init(project='cats_dogs_classifier', group='experiment_6', config=config)\n",
        "\n",
        "\n",
        "    raytune_load_checkpoint(model, optim)\n",
        "\n",
        "    train_metrics = None\n",
        "    test_metrics = None\n",
        "\n",
        "    for t in range(epochs):\n",
        "        train_state = { 'correct': 0, 'loss': 0, 'nbatches': 0, 'dataset_size': 0 }\n",
        "        test_state = { 'correct': 0, 'loss': 0, 'nbatches': 0, 'dataset_size': 0 }\n",
        "\n",
        "        start = datetime.now()\n",
        "\n",
        "        npartitions = train_set.npartitions\n",
        "        for partition in range(npartitions):\n",
        "\n",
        "            train_dataloader = DataLoader(\n",
        "                train_datasets[partition].compute(),\n",
        "                batch_size=batch_size,\n",
        "                shuffle=True,\n",
        "                num_workers=2,\n",
        "                pin_memory=True,\n",
        "                # Note that images vary in size and\n",
        "                # batches are tuples not torch.Tensor\n",
        "                collate_fn=lambda batch: tuple(zip(*batch))\n",
        "            )\n",
        "\n",
        "            test_dataloader = DataLoader(\n",
        "                test_datasets[partition].compute(),\n",
        "                batch_size=batch_size,\n",
        "                shuffle=True,\n",
        "                num_workers=2,\n",
        "                pin_memory=True,\n",
        "                # Note that images vary in size and\n",
        "                # batches are tuples not torch.Tensor\n",
        "                collate_fn=lambda batch: tuple(zip(*batch))\n",
        "            )\n",
        "\n",
        "            train_metrics = train(model, train_dataloader, loss_fn, optim)\n",
        "            test_metrics = test(model, test_dataloader, loss_fn)\n",
        "\n",
        "\n",
        "            train_state['correct'] += train_metrics['correct']\n",
        "            train_state['loss'] += train_metrics['loss']\n",
        "            train_state['nbatches'] += len(train_dataloader)\n",
        "            train_state['dataset_size'] += len(train_dataloader.dataset)\n",
        "\n",
        "            test_state['correct'] += test_metrics['correct']\n",
        "            test_state['loss'] += test_metrics['loss']\n",
        "            test_state['nbatches'] += len(test_dataloader)\n",
        "            test_state['dataset_size'] += len(test_dataloader.dataset)\n",
        "\n",
        "        end = datetime.now()\n",
        "\n",
        "        print(f'epoch {t}, time: {end - start}\\n')\n",
        "\n",
        "        train_correct = train_state['correct'] / train_state['dataset_size']\n",
        "        train_loss = train_state['loss'] / train_state['nbatches']\n",
        "\n",
        "        test_correct = test_state['correct'] / test_state['dataset_size']\n",
        "        test_loss = test_state['loss'] / test_state['nbatches']\n",
        "\n",
        "        wandb.log({ 'train_accuracy': train_correct, 'train_loss': train_loss, 'epoch': t })\n",
        "        wandb.log({ 'test_accuracy': test_correct, 'test_loss': test_loss, 'epoch': t })\n",
        "\n",
        "\n",
        "    raytune_save_checkpoint(\n",
        "        model,\n",
        "        optim,\n",
        "        { 'train_accuracy': train_correct, 'train_loss': train_loss, 'epoch': t },\n",
        "        { 'test_accuracy': test_correct, 'test_loss': test_loss, 'epoch': t }\n",
        "    )\n",
        "\n",
        "    wandb.finish()\n"
      ]
    },
    {
      "cell_type": "code",
      "execution_count": null,
      "metadata": {
        "id": "NBNdCvusbLiq"
      },
      "outputs": [],
      "source": [
        "config = {\n",
        "    'l1_c': tune.choice([16]),\n",
        "    'l1_cnk': tune.choice([4]),\n",
        "    'l1_pk': tune.choice([3]),\n",
        "    'l1_ps': tune.choice([2]),\n",
        "\n",
        "    'l2_c': tune.choice([32]),\n",
        "    'l2_cnk': tune.choice([4]),\n",
        "    'l2_pk': tune.choice([3]),\n",
        "    'l2_ps': tune.choice([2]),\n",
        "\n",
        "    'l3_c': tune.choice([64]),\n",
        "    'l3_cnk': tune.choice([4]),\n",
        "\n",
        "    'l4_c': tune.choice([64]),\n",
        "    'l4_cnk': tune.choice([4]),\n",
        "\n",
        "    'lr': tune.choice([1e-3]),\n",
        "    'batch_size': tune.choice([64]),\n",
        "    'epochs': 20,\n",
        "    'num_trials': 1,\n",
        "}\n",
        "\n",
        "scheduler = ASHAScheduler(\n",
        "    time_attr='training_iteration',\n",
        "    max_t=config['epochs'],\n",
        "    grace_period=1,\n",
        "    reduction_factor=2\n",
        ")\n",
        "\n",
        "tuner = tune.Tuner(\n",
        "    tune.with_resources(\n",
        "        tune.with_parameters(train_model),\n",
        "        resources={ 'cpu': 2, 'gpu': 1, 'accelerator_type:T4': 1 }\n",
        "    ),\n",
        "\n",
        "    tune_config=tune.TuneConfig(\n",
        "        metric='test_loss',\n",
        "        mode='min',\n",
        "        scheduler=scheduler,\n",
        "        num_samples=config['num_trials']\n",
        "    ),\n",
        "\n",
        "    param_space=config\n",
        ")\n",
        "\n",
        "results = tuner.fit()\n",
        "\n",
        "best_result = results.get_best_result('test_loss', 'min')\n",
        "\n",
        "print(f'Best trial config: { best_result.config }')\n",
        "print(f'Best trial final validation loss: { best_result.metrics[\"test_loss\"] }')\n",
        "print(f'Best trial final validation accuracy: { best_result.metrics[\"test_accuracy\"] }')"
      ]
    }
  ],
  "metadata": {
    "colab": {
      "provenance": [],
      "gpuType": "T4",
      "authorship_tag": "ABX9TyNUhaaVG9MNJ8MCFDEPJH/5",
      "include_colab_link": true
    },
    "kernelspec": {
      "display_name": "Python 3",
      "name": "python3"
    },
    "language_info": {
      "name": "python"
    },
    "accelerator": "GPU"
  },
  "nbformat": 4,
  "nbformat_minor": 0
}